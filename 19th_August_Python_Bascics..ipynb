{
 "cells": [
  {
   "cell_type": "code",
   "execution_count": 2,
   "id": "330523d4-5656-41bf-8196-26dbd73695cf",
   "metadata": {},
   "outputs": [
    {
     "name": "stdout",
     "output_type": "stream",
     "text": [
      "After swapping:\n",
      "x = 10\n",
      "y = 5\n"
     ]
    }
   ],
   "source": [
    "# Step 1: Declare and assign values to variables x and y\n",
    "x = 5\n",
    "y = 10\n",
    "\n",
    "# Step 2: Swapping without using a temporary variable\n",
    "# Explanation: We'll use arithmetic operations to achieve the swap.\n",
    "\n",
    "# Add the values of x and y and store the sum in x\n",
    "x = x + y\n",
    "# Now, x holds the sum of the original x and y\n",
    "\n",
    "# Subtract the original value of y from the new value of x to get the original value of x, and store it in y\n",
    "y = x - y\n",
    "# Now, y holds the original value of x\n",
    "\n",
    "# Subtract the original value of x (which is now stored in y) from the new value of x to get the original value of y, and store it in x\n",
    "x = x - y\n",
    "# Now, x holds the original value of y\n",
    "\n",
    "# At this point, the values of x and y are swapped\n",
    "\n",
    "# Step 3: Print the swapped values\n",
    "print(\"After swapping:\")\n",
    "print(\"x =\", x)\n",
    "print(\"y =\", y)\n"
   ]
  },
  {
   "cell_type": "code",
   "execution_count": 4,
   "id": "32a6bc44-e488-46c5-b7b9-9e83c67a9700",
   "metadata": {},
   "outputs": [
    {
     "name": "stdin",
     "output_type": "stream",
     "text": [
      "Enter the length of the rectangle:  10.5\n",
      "Enter the width of the rectangle:  4.5\n"
     ]
    },
    {
     "name": "stdout",
     "output_type": "stream",
     "text": [
      "The area of the rectangle is: 47.25\n"
     ]
    }
   ],
   "source": [
    "# Step 1: Get input from the user for length and width\n",
    "length = float(input(\"Enter the length of the rectangle: \"))\n",
    "width = float(input(\"Enter the width of the rectangle: \"))\n",
    "\n",
    "# Step 2: Calculate the area of the rectangle\n",
    "area = length * width\n",
    "\n",
    "# Step 3: Display the calculated area\n",
    "print(\"The area of the rectangle is:\", area)\n"
   ]
  },
  {
   "cell_type": "code",
   "execution_count": 6,
   "id": "42c4f361-5468-47db-a3e7-07ddb7d9d8ac",
   "metadata": {},
   "outputs": [
    {
     "name": "stdin",
     "output_type": "stream",
     "text": [
      "Enter temperature in Celsius:  30\n"
     ]
    },
    {
     "name": "stdout",
     "output_type": "stream",
     "text": [
      "Temperature in Fahrenheit: 86.0\n"
     ]
    }
   ],
   "source": [
    "# Step 1: Get input from the user for temperature in Celsius\n",
    "celsius = float(input(\"Enter temperature in Celsius: \"))\n",
    "\n",
    "# Step 2: Convert Celsius to Fahrenheit\n",
    "fahrenheit = (celsius * 9/5) + 32\n",
    "\n",
    "# Step 3: Display the converted temperature in Fahrenheit\n",
    "print(\"Temperature in Fahrenheit:\", fahrenheit)\n"
   ]
  },
  {
   "cell_type": "code",
   "execution_count": 8,
   "id": "87e0c4ca-f848-4aca-90d5-3abd2a090dde",
   "metadata": {},
   "outputs": [
    {
     "name": "stdin",
     "output_type": "stream",
     "text": [
      "Enter a string:  Ankit\n"
     ]
    },
    {
     "name": "stdout",
     "output_type": "stream",
     "text": [
      "The length of the string is: 5\n"
     ]
    }
   ],
   "source": [
    "# Step 1: Get input from the user\n",
    "input_string = input(\"Enter a string: \")\n",
    "\n",
    "# In this step, we prompt the user to enter a string by using the input() function.\n",
    "# The entered string is stored in the variable 'input_string' for further processing.\n",
    "\n",
    "# Step 2: Calculate the length of the string\n",
    "string_length = len(input_string)\n",
    "\n",
    "# Here, we use the len() function to determine the length of the 'input_string'\n",
    "# The len() function returns the number of characters in the string, including spaces.\n",
    "# The calculated length is stored in the variable 'string_length' for later use.\n",
    "\n",
    "# Step 3: Display the length of the string\n",
    "print(\"The length of the string is:\", string_length)\n",
    "\n",
    "# Finally, we utilize the print() function to display the length of the input string.\n",
    "# The result is presented as a sentence, including the calculated length obtained\n",
    "# from the 'string_length' variable.\n"
   ]
  },
  {
   "cell_type": "code",
   "execution_count": 10,
   "id": "e77251f9-a9b8-4270-b1ce-62f47208fae7",
   "metadata": {},
   "outputs": [
    {
     "name": "stdin",
     "output_type": "stream",
     "text": [
      "Enter a sentence:  My name is Sunil\n"
     ]
    },
    {
     "name": "stdout",
     "output_type": "stream",
     "text": [
      "Number of vowels in the sentence: 5\n"
     ]
    }
   ],
   "source": [
    "# Step 1: Get input from the user\n",
    "sentence = input(\"Enter a sentence: \")\n",
    "\n",
    "# In this step, we prompt the user to enter a sentence using the input() function.\n",
    "# The entered sentence is stored in the variable 'sentence' for further processing.\n",
    "\n",
    "# Step 2: Initialize a variable to count vowels\n",
    "vowel_count = 0\n",
    "\n",
    "# Here, we set up a variable 'vowel_count' and initialize it to zero.\n",
    "# This variable will keep track of the number of vowels we encounter in the sentence.\n",
    "\n",
    "# Step 3: Iterate through each character in the sentence\n",
    "for char in sentence:\n",
    "    # Check if the character is a vowel (case-insensitive)\n",
    "    if char.lower() in \"aeiou\":\n",
    "        vowel_count += 1\n",
    "\n",
    "# In this step, we use a for loop to iterate through each character in the 'sentence'.\n",
    "# Inside the loop, we have an 'if' statement to check if the lowercase version of the character\n",
    "# is one of the vowels ('a', 'e', 'i', 'o', 'u').\n",
    "# If the character is a vowel, we increment the 'vowel_count' by 1.\n",
    "\n",
    "# Step 4: Display the vowel count\n",
    "print(\"Number of vowels in the sentence:\", vowel_count)\n",
    "\n",
    "# Finally, we use the print() function to display the count of vowels in the sentence.\n",
    "# The result is presented as a sentence, along with the calculated 'vowel_count'.\n"
   ]
  },
  {
   "cell_type": "code",
   "execution_count": 14,
   "id": "e291c688-fcc4-4a43-bc03-76b77eb4eda9",
   "metadata": {},
   "outputs": [
    {
     "name": "stdin",
     "output_type": "stream",
     "text": [
      "Enter a string:  my name is pranav\n"
     ]
    },
    {
     "name": "stdout",
     "output_type": "stream",
     "text": [
      "Reversed string: vanarp si eman ym\n"
     ]
    }
   ],
   "source": [
    "# Step 1: Get input from the user\n",
    "input_string = input(\"Enter a string: \")\n",
    "\n",
    "# In this step, we use the input() function to capture a string from the user.\n",
    "# The string they provide will be stored in the variable 'input_string' for processing.\n",
    "\n",
    "# Step 2: Reverse the string using string slicing\n",
    "reversed_string = input_string[::-1]\n",
    "\n",
    "# To reverse the string, we utilize string slicing with a step of -1.\n",
    "# This means we are extracting characters from the string in reverse order.\n",
    "# The result is stored in the variable 'reversed_string'.\n",
    "\n",
    "# Step 3: Display the reversed string\n",
    "print(\"Reversed string:\", reversed_string)\n",
    "\n",
    "# Finally, we use the print() function to display the reversed string.\n",
    "# The result is shown as a sentence, including the reversed string content from 'reversed_string'.\n"
   ]
  },
  {
   "cell_type": "code",
   "execution_count": 17,
   "id": "8eb085dd-faf3-444b-8b47-7d291d54908c",
   "metadata": {},
   "outputs": [
    {
     "name": "stdin",
     "output_type": "stream",
     "text": [
      "Enter a string:  Yo banana boy\n"
     ]
    },
    {
     "name": "stdout",
     "output_type": "stream",
     "text": [
      "The input string is a palindrome.\n"
     ]
    }
   ],
   "source": [
    "# Step 1: Get input from the user\n",
    "input_string = input(\"Enter a string: \")\n",
    "\n",
    "# In this step, we use the input() function to get a string input from the user.\n",
    "# The entered string is stored in the variable 'input_string' for further processing.\n",
    "\n",
    "# Step 2: Remove spaces and convert to lowercase\n",
    "cleaned_string = input_string.replace(\" \", \"\").lower()\n",
    "\n",
    "# We clean the input string by removing spaces using the replace() function.\n",
    "# Additionally, we convert the cleaned string to lowercase using the lower() method.\n",
    "# This ensures that we're comparing characters in a case-insensitive manner.\n",
    "\n",
    "# Step 3: Check if the cleaned string is a palindrome\n",
    "is_palindrome = cleaned_string == cleaned_string[::-1]\n",
    "\n",
    "# Here, we compare the cleaned string with its reverse (using string slicing).\n",
    "# If they are the same, 'is_palindrome' will be True, indicating that the input string is a palindrome.\n",
    "# If they are not the same, 'is_palindrome' will be False.\n",
    "\n",
    "# Step 4: Display the result\n",
    "if is_palindrome:\n",
    "    print(\"The input string is a palindrome.\")\n",
    "else:\n",
    "    print(\"The input string is not a palindrome.\")\n",
    "\n",
    "# Finally, we use conditional statements to determine whether the input string is a palindrome or not.\n",
    "# The result is displayed accordingly using the print() function.\n"
   ]
  },
  {
   "cell_type": "code",
   "execution_count": 19,
   "id": "1bb18adb-a435-410c-b790-ce984309c4dd",
   "metadata": {},
   "outputs": [
    {
     "name": "stdin",
     "output_type": "stream",
     "text": [
      "Enter a string:  The input string is a palindrome.\n"
     ]
    },
    {
     "name": "stdout",
     "output_type": "stream",
     "text": [
      "Modified string without spaces: Theinputstringisapalindrome.\n"
     ]
    }
   ],
   "source": [
    "# Step 1: Get input from the user\n",
    "input_string = input(\"Enter a string: \")\n",
    "\n",
    "# In this step, we use the input() function to capture a string from the user.\n",
    "# The entered string is stored in the variable 'input_string' for processing.\n",
    "\n",
    "# Step 2: Remove spaces from the input string\n",
    "modified_string = input_string.replace(\" \", \"\")\n",
    "\n",
    "# We use the replace() function to remove all spaces from the input string.\n",
    "# The result is stored in the variable 'modified_string'.\n",
    "\n",
    "# Step 3: Display the modified string\n",
    "print(\"Modified string without spaces:\", modified_string)\n",
    "\n",
    "# Finally, we use the print() function to display the modified string without spaces.\n",
    "# The result is presented as a sentence, showing the content of 'modified_string'.\n"
   ]
  },
  {
   "cell_type": "code",
   "execution_count": null,
   "id": "776f405a-2726-4aa7-8853-0151d540b52c",
   "metadata": {},
   "outputs": [],
   "source": []
  }
 ],
 "metadata": {
  "kernelspec": {
   "display_name": "Python 3 (ipykernel)",
   "language": "python",
   "name": "python3"
  },
  "language_info": {
   "codemirror_mode": {
    "name": "ipython",
    "version": 3
   },
   "file_extension": ".py",
   "mimetype": "text/x-python",
   "name": "python",
   "nbconvert_exporter": "python",
   "pygments_lexer": "ipython3",
   "version": "3.10.8"
  }
 },
 "nbformat": 4,
 "nbformat_minor": 5
}
